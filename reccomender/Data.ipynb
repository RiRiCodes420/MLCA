{
 "cells": [
  {
   "cell_type": "code",
   "execution_count": 1,
   "metadata": {},
   "outputs": [
    {
     "name": "stdout",
     "output_type": "stream",
     "text": [
      "User data generated and saved to 'user_data.csv'\n"
     ]
    }
   ],
   "source": [
    "import pandas as pd\n",
    "import random\n",
    "\n",
    "# Function to generate random user data\n",
    "def generate_user_data(num_rows):\n",
    "    # Define possible genres and actors\n",
    "    genres = ['Action', 'Comedy', 'Drama', 'Horror', 'Romance', 'Sci-Fi', 'Documentary']\n",
    "    actors = [\n",
    "        'Robert Downey Jr.', 'Scarlett Johansson', 'Tom Hanks', 'Leonardo DiCaprio',\n",
    "        'Morgan Freeman', 'Emma Stone', 'Will Smith', 'Natalie Portman',\n",
    "        'Johnny Depp', 'Brad Pitt'\n",
    "    ]\n",
    "    \n",
    "    # Initialize an empty list to store user data\n",
    "    user_data = []\n",
    "\n",
    "    for user_id in range(1, num_rows + 1):\n",
    "        # Randomly select watched genres and favorite actors for each user\n",
    "        watched_genres = random.sample(genres, k=random.randint(1, 3))  # Choose 1 to 3 genres\n",
    "        favorite_actors = random.sample(actors, k=random.randint(1, 3))  # Choose 1 to 3 actors\n",
    "        \n",
    "        # Generate a random rating between 1 and 5\n",
    "        rating = round(random.uniform(1, 5), 1)\n",
    "        \n",
    "        # Append user data to the list\n",
    "        user_data.append({\n",
    "            'User_ID': user_id,\n",
    "            'Watched_Genres': ', '.join(watched_genres),  # Join genres as a string\n",
    "            'Favorite_Actors': ', '.join(favorite_actors),  # Join actors as a string\n",
    "            'Ratings': rating\n",
    "        })\n",
    "    \n",
    "    # Create a DataFrame from the user data\n",
    "    df = pd.DataFrame(user_data)\n",
    "    return df\n",
    "\n",
    "# Generate data for 150 users\n",
    "num_rows = 150\n",
    "user_data_df = generate_user_data(num_rows)\n",
    "\n",
    "# Save the DataFrame to a CSV file\n",
    "user_data_df.to_csv('user_data.csv', index=False)\n",
    "\n",
    "print(\"User data generated and saved to 'user_data.csv'\")\n"
   ]
  },
  {
   "cell_type": "code",
   "execution_count": 2,
   "metadata": {},
   "outputs": [
    {
     "name": "stdout",
     "output_type": "stream",
     "text": [
      "Movie recommendations added and saved to 'user_data.csv'\n"
     ]
    }
   ],
   "source": [
    "import pandas as pd\n",
    "\n",
    "# Load the existing dataset\n",
    "df = pd.read_csv('user_data.csv')\n",
    "\n",
    "# Example function to generate movie recommendations based on watched genres and favorite actors\n",
    "def generate_movie_recommendation(row):\n",
    "    if 'Action' in row['Watched_Genres']:\n",
    "        return 'Mad Max: Fury Road'\n",
    "    elif 'Comedy' in row['Watched_Genres']:\n",
    "        return 'Superbad'\n",
    "    elif 'Drama' in row['Watched_Genres']:\n",
    "        return 'The Shawshank Redemption'\n",
    "    elif 'Horror' in row['Watched_Genres']:\n",
    "        return 'Get Out'\n",
    "    elif 'Romance' in row['Watched_Genres']:\n",
    "        return 'The Notebook'\n",
    "    elif 'Sci-Fi' in row['Watched_Genres']:\n",
    "        return 'Inception'\n",
    "    else:\n",
    "        return 'The Godfather'  # Default recommendation\n",
    "\n",
    "# Apply the function to create the 'Movie_Recommendation' column\n",
    "df['Movie_Recommendation'] = df.apply(generate_movie_recommendation, axis=1)\n",
    "\n",
    "# Save the modified dataset\n",
    "df.to_csv('user_data.csv', index=False)\n",
    "\n",
    "print(\"Movie recommendations added and saved to 'user_data.csv'\")\n"
   ]
  },
  {
   "cell_type": "code",
   "execution_count": null,
   "metadata": {},
   "outputs": [],
   "source": []
  }
 ],
 "metadata": {
  "kernelspec": {
   "display_name": "Python 3",
   "language": "python",
   "name": "python3"
  },
  "language_info": {
   "codemirror_mode": {
    "name": "ipython",
    "version": 3
   },
   "file_extension": ".py",
   "mimetype": "text/x-python",
   "name": "python",
   "nbconvert_exporter": "python",
   "pygments_lexer": "ipython3",
   "version": "3.10.11"
  }
 },
 "nbformat": 4,
 "nbformat_minor": 2
}
